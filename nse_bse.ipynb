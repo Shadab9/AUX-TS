{
  "nbformat": 4,
  "nbformat_minor": 0,
  "metadata": {
    "colab": {
      "provenance": [],
      "authorship_tag": "ABX9TyO6syAzo41WOfYBE15h3ewS",
      "include_colab_link": true
    },
    "kernelspec": {
      "name": "python3",
      "display_name": "Python 3"
    },
    "language_info": {
      "name": "python"
    }
  },
  "cells": [
    {
      "cell_type": "markdown",
      "metadata": {
        "id": "view-in-github",
        "colab_type": "text"
      },
      "source": [
        "<a href=\"https://colab.research.google.com/github/Shadab9/AUX-TS/blob/main/nse_bse.ipynb\" target=\"_parent\"><img src=\"https://colab.research.google.com/assets/colab-badge.svg\" alt=\"Open In Colab\"/></a>"
      ]
    },
    {
      "cell_type": "code",
      "metadata": {
        "colab": {
          "base_uri": "https://localhost:8080/"
        },
        "id": "_RaGN8e7yURA",
        "outputId": "856ad557-a64d-4ef8-8749-44ec20674259"
      },
      "source": [
        "!pip install yfinance\n"
      ],
      "execution_count": 97,
      "outputs": [
        {
          "output_type": "stream",
          "name": "stdout",
          "text": [
            "Looking in indexes: https://pypi.org/simple, https://us-python.pkg.dev/colab-wheels/public/simple/\n",
            "Requirement already satisfied: yfinance in /usr/local/lib/python3.8/dist-packages (0.1.87)\n",
            "Requirement already satisfied: multitasking>=0.0.7 in /usr/local/lib/python3.8/dist-packages (from yfinance) (0.0.11)\n",
            "Requirement already satisfied: lxml>=4.5.1 in /usr/local/lib/python3.8/dist-packages (from yfinance) (4.9.1)\n",
            "Requirement already satisfied: requests>=2.26 in /usr/local/lib/python3.8/dist-packages (from yfinance) (2.28.1)\n",
            "Requirement already satisfied: pandas>=0.24.0 in /usr/local/lib/python3.8/dist-packages (from yfinance) (1.3.5)\n",
            "Requirement already satisfied: appdirs>=1.4.4 in /usr/local/lib/python3.8/dist-packages (from yfinance) (1.4.4)\n",
            "Requirement already satisfied: numpy>=1.15 in /usr/local/lib/python3.8/dist-packages (from yfinance) (1.21.6)\n",
            "Requirement already satisfied: python-dateutil>=2.7.3 in /usr/local/lib/python3.8/dist-packages (from pandas>=0.24.0->yfinance) (2.8.2)\n",
            "Requirement already satisfied: pytz>=2017.3 in /usr/local/lib/python3.8/dist-packages (from pandas>=0.24.0->yfinance) (2022.6)\n",
            "Requirement already satisfied: six>=1.5 in /usr/local/lib/python3.8/dist-packages (from python-dateutil>=2.7.3->pandas>=0.24.0->yfinance) (1.15.0)\n",
            "Requirement already satisfied: idna<4,>=2.5 in /usr/local/lib/python3.8/dist-packages (from requests>=2.26->yfinance) (2.10)\n",
            "Requirement already satisfied: charset-normalizer<3,>=2 in /usr/local/lib/python3.8/dist-packages (from requests>=2.26->yfinance) (2.1.1)\n",
            "Requirement already satisfied: urllib3<1.27,>=1.21.1 in /usr/local/lib/python3.8/dist-packages (from requests>=2.26->yfinance) (1.24.3)\n",
            "Requirement already satisfied: certifi>=2017.4.17 in /usr/local/lib/python3.8/dist-packages (from requests>=2.26->yfinance) (2022.9.24)\n"
          ]
        }
      ]
    },
    {
      "cell_type": "code",
      "metadata": {
        "id": "lC_yRfpOyYLU"
      },
      "source": [
        "import requests\n",
        "import yfinance as yf\n",
        "l=['AFFLE.NS','WIPRO.NS','TATACHEM.NS','DIXON.NS','DIVISLAB.NS','MTARTECH.NS','BERGEPAINT.NS','ASIANPAINT.NS','MPHASIS.NS','CUPID.NS','CAMS.NS','RELAXO.NS','NEWGEN.NS','PIDILITIND.NS','LTI.NS','TATAELXSI.NS','VBL.NS','POLYCAB.NS','TATACONSUM.NS','IRFC.NS','HAPPSTMNDS.NS','SAIL.NS','HNDFDS.NS','SAKSOFT.NS','TATAMOTORS.NS','RELIANCE.NS','AMBER.NS','INFY.NS','HCLTECH.NS','HAVELLS.NS','DMART.NS','ITC.NS','INDIAMART.NS','HINDUNILVR.NS','PRINCEPIPE.NS'\n",
        "    ]\n"
      ],
      "execution_count": 98,
      "outputs": []
    },
    {
      "cell_type": "code",
      "metadata": {
        "id": "v1Mo5dh4ygK7",
        "colab": {
          "base_uri": "https://localhost:8080/"
        },
        "outputId": "0b529e2f-f556-4631-e047-9e40067b2607"
      },
      "source": [
        "data={}\n",
        "for i in range(0,len(l)):\n",
        "  ns=l[i][:-3]\n",
        "  nse = ns+\".NS\"\n",
        "  bse = ns+\".BO\"\n",
        "  print(nse,'....',bse)\n",
        "  raw_data_NSE=(yf.download(tickers=nse, period='1d', interval='1m'))\n",
        "  raw_data_BSE=(yf.download(tickers=bse, period='1d', interval='1m'))\n",
        "  close_nse_data=raw_data_NSE['Close'][-1]\n",
        "  close_bse_data=raw_data_BSE['Close'][-1]\n",
        "  \n",
        "  if(close_nse_data<close_bse_data):\n",
        "     data[l[i]]=[round(((close_bse_data-close_nse_data)/close_nse_data)*100,2),'BSE']\n",
        "  else:\n",
        "     data[l[i]]=[round(((close_nse_data-close_bse_data)/close_bse_data)*100,2),'NSE']\n",
        "  \n",
        "  \n"
      ],
      "execution_count": 99,
      "outputs": [
        {
          "output_type": "stream",
          "name": "stdout",
          "text": [
            "AFFLE.NS .... AFFLE.BO\n",
            "[*********************100%***********************]  1 of 1 completed\n",
            "[*********************100%***********************]  1 of 1 completed\n",
            "WIPRO.NS .... WIPRO.BO\n",
            "[*********************100%***********************]  1 of 1 completed\n",
            "[*********************100%***********************]  1 of 1 completed\n",
            "TATACHEM.NS .... TATACHEM.BO\n",
            "[*********************100%***********************]  1 of 1 completed\n",
            "[*********************100%***********************]  1 of 1 completed\n",
            "DIXON.NS .... DIXON.BO\n",
            "[*********************100%***********************]  1 of 1 completed\n",
            "[*********************100%***********************]  1 of 1 completed\n",
            "DIVISLAB.NS .... DIVISLAB.BO\n",
            "[*********************100%***********************]  1 of 1 completed\n",
            "[*********************100%***********************]  1 of 1 completed\n",
            "MTARTECH.NS .... MTARTECH.BO\n",
            "[*********************100%***********************]  1 of 1 completed\n",
            "[*********************100%***********************]  1 of 1 completed\n",
            "BERGEPAINT.NS .... BERGEPAINT.BO\n",
            "[*********************100%***********************]  1 of 1 completed\n",
            "[*********************100%***********************]  1 of 1 completed\n",
            "ASIANPAINT.NS .... ASIANPAINT.BO\n",
            "[*********************100%***********************]  1 of 1 completed\n",
            "[*********************100%***********************]  1 of 1 completed\n",
            "MPHASIS.NS .... MPHASIS.BO\n",
            "[*********************100%***********************]  1 of 1 completed\n",
            "[*********************100%***********************]  1 of 1 completed\n",
            "CUPID.NS .... CUPID.BO\n",
            "[*********************100%***********************]  1 of 1 completed\n",
            "[*********************100%***********************]  1 of 1 completed\n",
            "CAMS.NS .... CAMS.BO\n",
            "[*********************100%***********************]  1 of 1 completed\n",
            "[*********************100%***********************]  1 of 1 completed\n",
            "RELAXO.NS .... RELAXO.BO\n",
            "[*********************100%***********************]  1 of 1 completed\n",
            "[*********************100%***********************]  1 of 1 completed\n",
            "NEWGEN.NS .... NEWGEN.BO\n",
            "[*********************100%***********************]  1 of 1 completed\n",
            "[*********************100%***********************]  1 of 1 completed\n",
            "PIDILITIND.NS .... PIDILITIND.BO\n",
            "[*********************100%***********************]  1 of 1 completed\n",
            "[*********************100%***********************]  1 of 1 completed\n",
            "LTI.NS .... LTI.BO\n",
            "[*********************100%***********************]  1 of 1 completed\n",
            "[*********************100%***********************]  1 of 1 completed\n",
            "TATAELXSI.NS .... TATAELXSI.BO\n",
            "[*********************100%***********************]  1 of 1 completed\n",
            "[*********************100%***********************]  1 of 1 completed\n",
            "VBL.NS .... VBL.BO\n",
            "[*********************100%***********************]  1 of 1 completed\n",
            "[*********************100%***********************]  1 of 1 completed\n",
            "POLYCAB.NS .... POLYCAB.BO\n",
            "[*********************100%***********************]  1 of 1 completed\n",
            "[*********************100%***********************]  1 of 1 completed\n",
            "TATACONSUM.NS .... TATACONSUM.BO\n",
            "[*********************100%***********************]  1 of 1 completed\n",
            "[*********************100%***********************]  1 of 1 completed\n",
            "IRFC.NS .... IRFC.BO\n",
            "[*********************100%***********************]  1 of 1 completed\n",
            "[*********************100%***********************]  1 of 1 completed\n",
            "HAPPSTMNDS.NS .... HAPPSTMNDS.BO\n",
            "[*********************100%***********************]  1 of 1 completed\n",
            "[*********************100%***********************]  1 of 1 completed\n",
            "SAIL.NS .... SAIL.BO\n",
            "[*********************100%***********************]  1 of 1 completed\n",
            "[*********************100%***********************]  1 of 1 completed\n",
            "HNDFDS.NS .... HNDFDS.BO\n",
            "[*********************100%***********************]  1 of 1 completed\n",
            "[*********************100%***********************]  1 of 1 completed\n",
            "SAKSOFT.NS .... SAKSOFT.BO\n",
            "[*********************100%***********************]  1 of 1 completed\n",
            "[*********************100%***********************]  1 of 1 completed\n",
            "TATAMOTORS.NS .... TATAMOTORS.BO\n",
            "[*********************100%***********************]  1 of 1 completed\n",
            "[*********************100%***********************]  1 of 1 completed\n",
            "RELIANCE.NS .... RELIANCE.BO\n",
            "[*********************100%***********************]  1 of 1 completed\n",
            "[*********************100%***********************]  1 of 1 completed\n",
            "AMBER.NS .... AMBER.BO\n",
            "[*********************100%***********************]  1 of 1 completed\n",
            "[*********************100%***********************]  1 of 1 completed\n",
            "INFY.NS .... INFY.BO\n",
            "[*********************100%***********************]  1 of 1 completed\n",
            "[*********************100%***********************]  1 of 1 completed\n",
            "HCLTECH.NS .... HCLTECH.BO\n",
            "[*********************100%***********************]  1 of 1 completed\n",
            "[*********************100%***********************]  1 of 1 completed\n",
            "HAVELLS.NS .... HAVELLS.BO\n",
            "[*********************100%***********************]  1 of 1 completed\n",
            "[*********************100%***********************]  1 of 1 completed\n",
            "DMART.NS .... DMART.BO\n",
            "[*********************100%***********************]  1 of 1 completed\n",
            "[*********************100%***********************]  1 of 1 completed\n",
            "ITC.NS .... ITC.BO\n",
            "[*********************100%***********************]  1 of 1 completed\n",
            "[*********************100%***********************]  1 of 1 completed\n",
            "INDIAMART.NS .... INDIAMART.BO\n",
            "[*********************100%***********************]  1 of 1 completed\n",
            "[*********************100%***********************]  1 of 1 completed\n",
            "HINDUNILVR.NS .... HINDUNILVR.BO\n",
            "[*********************100%***********************]  1 of 1 completed\n",
            "[*********************100%***********************]  1 of 1 completed\n",
            "PRINCEPIPE.NS .... PRINCEPIPE.BO\n",
            "[*********************100%***********************]  1 of 1 completed\n",
            "[*********************100%***********************]  1 of 1 completed\n"
          ]
        }
      ]
    },
    {
      "cell_type": "code",
      "source": [
        "sort_orders = sorted(data.items(), key=lambda x: x[1], reverse=True)\n",
        "for i in sort_orders:\n",
        "  print(i)"
      ],
      "metadata": {
        "colab": {
          "base_uri": "https://localhost:8080/"
        },
        "id": "AtxP_qgB-w8D",
        "outputId": "263fba40-6bbd-4407-e336-6dd731dc5a79"
      },
      "execution_count": 100,
      "outputs": [
        {
          "output_type": "stream",
          "name": "stdout",
          "text": [
            "('CUPID.NS', [0.22, 'NSE'])\n",
            "('VBL.NS', [0.21, 'NSE'])\n",
            "('IRFC.NS', [0.15, 'NSE'])\n",
            "('HNDFDS.NS', [0.15, 'NSE'])\n",
            "('AFFLE.NS', [0.11, 'BSE'])\n",
            "('BERGEPAINT.NS', [0.08, 'NSE'])\n",
            "('NEWGEN.NS', [0.08, 'NSE'])\n",
            "('HCLTECH.NS', [0.08, 'NSE'])\n",
            "('DIXON.NS', [0.08, 'BSE'])\n",
            "('SAKSOFT.NS', [0.08, 'BSE'])\n",
            "('RELAXO.NS', [0.07, 'NSE'])\n",
            "('TATACONSUM.NS', [0.07, 'BSE'])\n",
            "('SAIL.NS', [0.06, 'NSE'])\n",
            "('DMART.NS', [0.06, 'NSE'])\n",
            "('CAMS.NS', [0.06, 'BSE'])\n",
            "('PIDILITIND.NS', [0.04, 'NSE'])\n",
            "('TATAELXSI.NS', [0.04, 'NSE'])\n",
            "('INDIAMART.NS', [0.04, 'NSE'])\n",
            "('LTI.NS', [0.04, 'BSE'])\n",
            "('INFY.NS', [0.04, 'BSE'])\n",
            "('DIVISLAB.NS', [0.03, 'NSE'])\n",
            "('ITC.NS', [0.03, 'NSE'])\n",
            "('MTARTECH.NS', [0.03, 'BSE'])\n",
            "('POLYCAB.NS', [0.02, 'NSE'])\n",
            "('TATAMOTORS.NS', [0.02, 'NSE'])\n",
            "('RELIANCE.NS', [0.02, 'BSE'])\n",
            "('PRINCEPIPE.NS', [0.02, 'BSE'])\n",
            "('WIPRO.NS', [0.01, 'NSE'])\n",
            "('ASIANPAINT.NS', [0.01, 'NSE'])\n",
            "('AMBER.NS', [0.01, 'NSE'])\n",
            "('HAPPSTMNDS.NS', [0.01, 'BSE'])\n",
            "('HAVELLS.NS', [0.01, 'BSE'])\n",
            "('HINDUNILVR.NS', [0.01, 'BSE'])\n",
            "('TATACHEM.NS', [0.0, 'NSE'])\n",
            "('MPHASIS.NS', [0.0, 'NSE'])\n"
          ]
        }
      ]
    },
    {
      "cell_type": "code",
      "source": [
        "for i in sort_orders:\n",
        "  if(i[1][0]>2):\n",
        "    print(i)"
      ],
      "metadata": {
        "id": "j3wiY9fTBYmG"
      },
      "execution_count": 101,
      "outputs": []
    }
  ]
}