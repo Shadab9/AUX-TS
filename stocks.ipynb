{
  "nbformat": 4,
  "nbformat_minor": 0,
  "metadata": {
    "colab": {
      "provenance": [],
      "authorship_tag": "ABX9TyOetQDQAB5KpPH8dQwW29pp",
      "include_colab_link": true
    },
    "kernelspec": {
      "name": "python3",
      "display_name": "Python 3"
    },
    "language_info": {
      "name": "python"
    }
  },
  "cells": [
    {
      "cell_type": "markdown",
      "metadata": {
        "id": "view-in-github",
        "colab_type": "text"
      },
      "source": [
        "<a href=\"https://colab.research.google.com/github/Shadab9/AUX-TS/blob/main/stocks.ipynb\" target=\"_parent\"><img src=\"https://colab.research.google.com/assets/colab-badge.svg\" alt=\"Open In Colab\"/></a>"
      ]
    },
    {
      "cell_type": "code",
      "metadata": {
        "colab": {
          "base_uri": "https://localhost:8080/"
        },
        "id": "wJ8ni1iMtnxO",
        "outputId": "f7bcdd4d-4fe1-482e-c0d5-0b21f0ed9d42"
      },
      "source": [
        "!pip install yfinance\n",
        "!pip install yfinance --upgrade --no-cache-dir \n",
        "import requests\n",
        "import yfinance as yf\n",
        "l=['AFFLE.NS','WIPRO.NS','TATACHEM.NS','DIXON.NS','DIVISLAB.NS','MTARTECH.NS','BERGEPAINT.NS','ASIANPAINT.NS','MPHASIS.NS','CUPID.NS','CAMS.NS','RELAXO.NS','NEWGEN.NS','PIDILITIND.NS','LTI.NS','TATAELXSI.NS','VBL.NS','POLYCAB.NS','TATACONSUM.NS','IRFC.NS','HAPPSTMNDS.NS','SAIL.NS','HNDFDS.NS','SAKSOFT.NS','TATAMOTORS.NS','RELIANCE.NS','AMBER.NS','INFY.NS','HCLTECH.NS','HAVELLS.NS','DMART.NS','ITC.NS','INDIAMART.NS','DEEPAKNTR.NS','HINDUNILVR.NS','PRINCEPIPE.NS']\n",
        "l.sort()"
      ],
      "execution_count": 7,
      "outputs": [
        {
          "output_type": "stream",
          "name": "stdout",
          "text": [
            "Looking in indexes: https://pypi.org/simple, https://us-python.pkg.dev/colab-wheels/public/simple/\n",
            "Requirement already satisfied: yfinance in /usr/local/lib/python3.8/dist-packages (0.1.87)\n",
            "Requirement already satisfied: lxml>=4.5.1 in /usr/local/lib/python3.8/dist-packages (from yfinance) (4.9.1)\n",
            "Requirement already satisfied: appdirs>=1.4.4 in /usr/local/lib/python3.8/dist-packages (from yfinance) (1.4.4)\n",
            "Requirement already satisfied: requests>=2.26 in /usr/local/lib/python3.8/dist-packages (from yfinance) (2.28.1)\n",
            "Requirement already satisfied: numpy>=1.15 in /usr/local/lib/python3.8/dist-packages (from yfinance) (1.21.6)\n",
            "Requirement already satisfied: multitasking>=0.0.7 in /usr/local/lib/python3.8/dist-packages (from yfinance) (0.0.11)\n",
            "Requirement already satisfied: pandas>=0.24.0 in /usr/local/lib/python3.8/dist-packages (from yfinance) (1.3.5)\n",
            "Requirement already satisfied: python-dateutil>=2.7.3 in /usr/local/lib/python3.8/dist-packages (from pandas>=0.24.0->yfinance) (2.8.2)\n",
            "Requirement already satisfied: pytz>=2017.3 in /usr/local/lib/python3.8/dist-packages (from pandas>=0.24.0->yfinance) (2022.6)\n",
            "Requirement already satisfied: six>=1.5 in /usr/local/lib/python3.8/dist-packages (from python-dateutil>=2.7.3->pandas>=0.24.0->yfinance) (1.15.0)\n",
            "Requirement already satisfied: idna<4,>=2.5 in /usr/local/lib/python3.8/dist-packages (from requests>=2.26->yfinance) (2.10)\n",
            "Requirement already satisfied: certifi>=2017.4.17 in /usr/local/lib/python3.8/dist-packages (from requests>=2.26->yfinance) (2022.9.24)\n",
            "Requirement already satisfied: charset-normalizer<3,>=2 in /usr/local/lib/python3.8/dist-packages (from requests>=2.26->yfinance) (2.1.1)\n",
            "Requirement already satisfied: urllib3<1.27,>=1.21.1 in /usr/local/lib/python3.8/dist-packages (from requests>=2.26->yfinance) (1.24.3)\n",
            "Looking in indexes: https://pypi.org/simple, https://us-python.pkg.dev/colab-wheels/public/simple/\n",
            "Requirement already satisfied: yfinance in /usr/local/lib/python3.8/dist-packages (0.1.87)\n",
            "Requirement already satisfied: numpy>=1.15 in /usr/local/lib/python3.8/dist-packages (from yfinance) (1.21.6)\n",
            "Requirement already satisfied: requests>=2.26 in /usr/local/lib/python3.8/dist-packages (from yfinance) (2.28.1)\n",
            "Requirement already satisfied: appdirs>=1.4.4 in /usr/local/lib/python3.8/dist-packages (from yfinance) (1.4.4)\n",
            "Requirement already satisfied: pandas>=0.24.0 in /usr/local/lib/python3.8/dist-packages (from yfinance) (1.3.5)\n",
            "Requirement already satisfied: lxml>=4.5.1 in /usr/local/lib/python3.8/dist-packages (from yfinance) (4.9.1)\n",
            "Requirement already satisfied: multitasking>=0.0.7 in /usr/local/lib/python3.8/dist-packages (from yfinance) (0.0.11)\n",
            "Requirement already satisfied: python-dateutil>=2.7.3 in /usr/local/lib/python3.8/dist-packages (from pandas>=0.24.0->yfinance) (2.8.2)\n",
            "Requirement already satisfied: pytz>=2017.3 in /usr/local/lib/python3.8/dist-packages (from pandas>=0.24.0->yfinance) (2022.6)\n",
            "Requirement already satisfied: six>=1.5 in /usr/local/lib/python3.8/dist-packages (from python-dateutil>=2.7.3->pandas>=0.24.0->yfinance) (1.15.0)\n",
            "Requirement already satisfied: urllib3<1.27,>=1.21.1 in /usr/local/lib/python3.8/dist-packages (from requests>=2.26->yfinance) (1.24.3)\n",
            "Requirement already satisfied: certifi>=2017.4.17 in /usr/local/lib/python3.8/dist-packages (from requests>=2.26->yfinance) (2022.9.24)\n",
            "Requirement already satisfied: idna<4,>=2.5 in /usr/local/lib/python3.8/dist-packages (from requests>=2.26->yfinance) (2.10)\n",
            "Requirement already satisfied: charset-normalizer<3,>=2 in /usr/local/lib/python3.8/dist-packages (from requests>=2.26->yfinance) (2.1.1)\n"
          ]
        }
      ]
    },
    {
      "cell_type": "code",
      "metadata": {
        "colab": {
          "base_uri": "https://localhost:8080/"
        },
        "id": "NQfcxFO2iIlS",
        "outputId": "e7d7e23c-5158-4269-9926-90d0962c4cc3"
      },
      "source": [
        "import numpy as np\n",
        "import pandas as pd\n",
        "import matplotlib.pyplot as plt\n",
        "%matplotlib inline\n",
        "\n",
        "datas={}\n",
        "sum=0\n",
        "for i in l:\n",
        "    #datat=(yf.download(tickers=i, period='300d', interval='1d'))\n",
        "    datat=(yf.download(tickers=i, period='1d', interval='1m'))\n",
        "    aapl = yf.Ticker(i)\n",
        "    datas[i]=((aapl.info[\"fiftyTwoWeekHigh\"]-datat['Close'][-1])/(datat['Close'][-1])*100)"
      ],
      "execution_count": 8,
      "outputs": [
        {
          "output_type": "stream",
          "name": "stdout",
          "text": [
            "[*********************100%***********************]  1 of 1 completed\n",
            "[*********************100%***********************]  1 of 1 completed\n",
            "[*********************100%***********************]  1 of 1 completed\n",
            "[*********************100%***********************]  1 of 1 completed\n",
            "[*********************100%***********************]  1 of 1 completed\n",
            "[*********************100%***********************]  1 of 1 completed\n",
            "[*********************100%***********************]  1 of 1 completed\n",
            "[*********************100%***********************]  1 of 1 completed\n",
            "[*********************100%***********************]  1 of 1 completed\n",
            "[*********************100%***********************]  1 of 1 completed\n",
            "[*********************100%***********************]  1 of 1 completed\n",
            "[*********************100%***********************]  1 of 1 completed\n",
            "[*********************100%***********************]  1 of 1 completed\n",
            "[*********************100%***********************]  1 of 1 completed\n",
            "[*********************100%***********************]  1 of 1 completed\n",
            "[*********************100%***********************]  1 of 1 completed\n",
            "[*********************100%***********************]  1 of 1 completed\n",
            "[*********************100%***********************]  1 of 1 completed\n",
            "[*********************100%***********************]  1 of 1 completed\n",
            "[*********************100%***********************]  1 of 1 completed\n",
            "[*********************100%***********************]  1 of 1 completed\n",
            "[*********************100%***********************]  1 of 1 completed\n",
            "[*********************100%***********************]  1 of 1 completed\n",
            "[*********************100%***********************]  1 of 1 completed\n",
            "[*********************100%***********************]  1 of 1 completed\n",
            "[*********************100%***********************]  1 of 1 completed\n",
            "[*********************100%***********************]  1 of 1 completed\n",
            "[*********************100%***********************]  1 of 1 completed\n",
            "[*********************100%***********************]  1 of 1 completed\n",
            "[*********************100%***********************]  1 of 1 completed\n",
            "[*********************100%***********************]  1 of 1 completed\n",
            "[*********************100%***********************]  1 of 1 completed\n",
            "[*********************100%***********************]  1 of 1 completed\n",
            "[*********************100%***********************]  1 of 1 completed\n",
            "[*********************100%***********************]  1 of 1 completed\n",
            "[*********************100%***********************]  1 of 1 completed\n"
          ]
        }
      ]
    },
    {
      "cell_type": "code",
      "metadata": {
        "id": "S8zY8A2Fk6EV"
      },
      "source": [
        "sort_orders = sorted(datas.items(), key=lambda x: x[1], reverse=True)"
      ],
      "execution_count": 9,
      "outputs": []
    },
    {
      "cell_type": "code",
      "metadata": {
        "id": "DCFT_PhAlStA",
        "colab": {
          "base_uri": "https://localhost:8080/"
        },
        "outputId": "e789c142-13cf-4ea4-f7a7-25c8ceb77dc9"
      },
      "source": [
        "sort_orders"
      ],
      "execution_count": 10,
      "outputs": [
        {
          "output_type": "execute_result",
          "data": {
            "text/plain": [
              "[('AMBER.NS', 100.12178451596867),\n",
              " ('NEWGEN.NS', 81.44245755031403),\n",
              " ('WIPRO.NS', 76.23666604186042),\n",
              " ('INDIAMART.NS', 66.56405664073432),\n",
              " ('MPHASIS.NS', 61.26265290828751),\n",
              " ('TATAELXSI.NS', 52.9723654735369),\n",
              " ('LTI.NS', 49.80605043675666),\n",
              " ('MTARTECH.NS', 47.502585336474475),\n",
              " ('RELAXO.NS', 43.705874958655),\n",
              " ('CUPID.NS', 42.56947066013896),\n",
              " ('SAIL.NS', 42.30547550432277),\n",
              " ('DIVISLAB.NS', 41.21996303142329),\n",
              " ('HAPPSTMNDS.NS', 37.973012392978724),\n",
              " ('DIXON.NS', 33.905126241768286),\n",
              " ('CAMS.NS', 30.846648526224048),\n",
              " ('BERGEPAINT.NS', 29.696620430854324),\n",
              " ('PRINCEPIPE.NS', 24.719847725509027),\n",
              " ('AFFLE.NS', 22.501930342972614),\n",
              " ('DMART.NS', 21.784934157149088),\n",
              " ('DEEPAKNTR.NS', 21.63915894189465),\n",
              " ('TATAMOTORS.NS', 21.382638357512242),\n",
              " ('HCLTECH.NS', 19.712909299144123),\n",
              " ('INFY.NS', 19.29299535232515),\n",
              " ('TATACHEM.NS', 16.890366915638364),\n",
              " ('SAKSOFT.NS', 16.421005037791517),\n",
              " ('HAVELLS.NS', 15.371892032279893),\n",
              " ('ASIANPAINT.NS', 14.205731147768127),\n",
              " ('TATACONSUM.NS', 8.245869299680356),\n",
              " ('IRFC.NS', 7.536231884057976),\n",
              " ('ITC.NS', 7.207476358720172),\n",
              " ('POLYCAB.NS', 7.037353615363541),\n",
              " ('PIDILITIND.NS', 6.678972739176301),\n",
              " ('RELIANCE.NS', 4.922583342705597),\n",
              " ('HINDUNILVR.NS', 4.546667351292308),\n",
              " ('VBL.NS', 2.684667455596761),\n",
              " ('HNDFDS.NS', 1.2552864470123504)]"
            ]
          },
          "metadata": {},
          "execution_count": 10
        }
      ]
    },
    {
      "cell_type": "code",
      "metadata": {
        "id": "da6yYqYFfmAP",
        "colab": {
          "base_uri": "https://localhost:8080/"
        },
        "outputId": "37f1406d-fb14-4912-a592-33bbc61cfb22"
      },
      "source": [
        "l=['AFFLE.NS','WIPRO.NS','TATACHEM.NS','DIXON.NS','DIVISLAB.NS','MTARTECH.NS','BERGEPAINT.NS','ASIANPAINT.NS','MPHASIS.NS','CUPID.NS','CAMS.NS','RELAXO.NS','NEWGEN.NS','PIDILITIND.NS','LTI.NS','TATAELXSI.NS','VBL.NS','POLYCAB.NS','TATACONSUM.NS','IRFC.NS','HAPPSTMNDS.NS','SAIL.NS','HNDFDS.NS','SAKSOFT.NS','TATAMOTORS.NS','RELIANCE.NS','AMBER.NS','INFY.NS','HCLTECH.NS','HAVELLS.NS','DMART.NS','ITC.NS','INDIAMART.NS','HINDUNILVR.NS','PRINCEPIPE.NS']\n",
        "data={}\n",
        "for i in range(0,len(l)):\n",
        "  ns=l[i][:-3]\n",
        "  nse = ns+\".NS\"\n",
        "  bse = ns+\".BO\"\n",
        "  print(nse,'....',bse)\n",
        "  raw_data_NSE=(yf.download(tickers=nse, period='1d', interval='1m'))\n",
        "  raw_data_BSE=(yf.download(tickers=bse, period='1d', interval='1m'))\n",
        "  close_nse_data=raw_data_NSE['Close'][-1]\n",
        "  close_bse_data=raw_data_BSE['Close'][-1]\n",
        "    \n",
        "  if(close_nse_data<close_bse_data):\n",
        "    data[l[i]]=[round(((close_bse_data-close_nse_data)/close_nse_data)*100,2),'BSE']\n",
        "  else:\n",
        "    data[l[i]]=[round(((close_nse_data-close_bse_data)/close_bse_data)*100,2),'NSE']\n",
        "sort_orders = sorted(data.items(), key=lambda x: x[1], reverse=True)\n",
        "for i in sort_orders:\n",
        "  print(i)\n",
        "\n",
        "  "
      ],
      "execution_count": 16,
      "outputs": [
        {
          "output_type": "stream",
          "name": "stdout",
          "text": [
            "AFFLE.NS .... AFFLE.BO\n",
            "[*********************100%***********************]  1 of 1 completed\n",
            "[*********************100%***********************]  1 of 1 completed\n",
            "WIPRO.NS .... WIPRO.BO\n",
            "[*********************100%***********************]  1 of 1 completed\n",
            "[*********************100%***********************]  1 of 1 completed\n",
            "TATACHEM.NS .... TATACHEM.BO\n",
            "[*********************100%***********************]  1 of 1 completed\n",
            "[*********************100%***********************]  1 of 1 completed\n",
            "DIXON.NS .... DIXON.BO\n",
            "[*********************100%***********************]  1 of 1 completed\n",
            "[*********************100%***********************]  1 of 1 completed\n",
            "DIVISLAB.NS .... DIVISLAB.BO\n",
            "[*********************100%***********************]  1 of 1 completed\n",
            "[*********************100%***********************]  1 of 1 completed\n",
            "MTARTECH.NS .... MTARTECH.BO\n",
            "[*********************100%***********************]  1 of 1 completed\n",
            "[*********************100%***********************]  1 of 1 completed\n",
            "BERGEPAINT.NS .... BERGEPAINT.BO\n",
            "[*********************100%***********************]  1 of 1 completed\n",
            "[*********************100%***********************]  1 of 1 completed\n",
            "ASIANPAINT.NS .... ASIANPAINT.BO\n",
            "[*********************100%***********************]  1 of 1 completed\n",
            "[*********************100%***********************]  1 of 1 completed\n",
            "MPHASIS.NS .... MPHASIS.BO\n",
            "[*********************100%***********************]  1 of 1 completed\n",
            "[*********************100%***********************]  1 of 1 completed\n",
            "CUPID.NS .... CUPID.BO\n",
            "[*********************100%***********************]  1 of 1 completed\n",
            "[*********************100%***********************]  1 of 1 completed\n",
            "CAMS.NS .... CAMS.BO\n",
            "[*********************100%***********************]  1 of 1 completed\n",
            "[*********************100%***********************]  1 of 1 completed\n",
            "RELAXO.NS .... RELAXO.BO\n",
            "[*********************100%***********************]  1 of 1 completed\n",
            "[*********************100%***********************]  1 of 1 completed\n",
            "NEWGEN.NS .... NEWGEN.BO\n",
            "[*********************100%***********************]  1 of 1 completed\n",
            "[*********************100%***********************]  1 of 1 completed\n",
            "PIDILITIND.NS .... PIDILITIND.BO\n",
            "[*********************100%***********************]  1 of 1 completed\n",
            "[*********************100%***********************]  1 of 1 completed\n",
            "LTI.NS .... LTI.BO\n",
            "[*********************100%***********************]  1 of 1 completed\n",
            "[*********************100%***********************]  1 of 1 completed\n",
            "TATAELXSI.NS .... TATAELXSI.BO\n",
            "[*********************100%***********************]  1 of 1 completed\n",
            "[*********************100%***********************]  1 of 1 completed\n",
            "VBL.NS .... VBL.BO\n",
            "[*********************100%***********************]  1 of 1 completed\n",
            "[*********************100%***********************]  1 of 1 completed\n",
            "POLYCAB.NS .... POLYCAB.BO\n",
            "[*********************100%***********************]  1 of 1 completed\n",
            "[*********************100%***********************]  1 of 1 completed\n",
            "TATACONSUM.NS .... TATACONSUM.BO\n",
            "[*********************100%***********************]  1 of 1 completed\n",
            "[*********************100%***********************]  1 of 1 completed\n",
            "IRFC.NS .... IRFC.BO\n",
            "[*********************100%***********************]  1 of 1 completed\n",
            "[*********************100%***********************]  1 of 1 completed\n",
            "HAPPSTMNDS.NS .... HAPPSTMNDS.BO\n",
            "[*********************100%***********************]  1 of 1 completed\n",
            "[*********************100%***********************]  1 of 1 completed\n",
            "SAIL.NS .... SAIL.BO\n",
            "[*********************100%***********************]  1 of 1 completed\n",
            "[*********************100%***********************]  1 of 1 completed\n",
            "HNDFDS.NS .... HNDFDS.BO\n",
            "[*********************100%***********************]  1 of 1 completed\n",
            "[*********************100%***********************]  1 of 1 completed\n",
            "SAKSOFT.NS .... SAKSOFT.BO\n",
            "[*********************100%***********************]  1 of 1 completed\n",
            "[*********************100%***********************]  1 of 1 completed\n",
            "TATAMOTORS.NS .... TATAMOTORS.BO\n",
            "[*********************100%***********************]  1 of 1 completed\n",
            "[*********************100%***********************]  1 of 1 completed\n",
            "RELIANCE.NS .... RELIANCE.BO\n",
            "[*********************100%***********************]  1 of 1 completed\n",
            "[*********************100%***********************]  1 of 1 completed\n",
            "AMBER.NS .... AMBER.BO\n",
            "[*********************100%***********************]  1 of 1 completed\n",
            "[*********************100%***********************]  1 of 1 completed\n",
            "INFY.NS .... INFY.BO\n",
            "[*********************100%***********************]  1 of 1 completed\n",
            "[*********************100%***********************]  1 of 1 completed\n",
            "HCLTECH.NS .... HCLTECH.BO\n",
            "[*********************100%***********************]  1 of 1 completed\n",
            "[*********************100%***********************]  1 of 1 completed\n",
            "HAVELLS.NS .... HAVELLS.BO\n",
            "[*********************100%***********************]  1 of 1 completed\n",
            "[*********************100%***********************]  1 of 1 completed\n",
            "DMART.NS .... DMART.BO\n",
            "[*********************100%***********************]  1 of 1 completed\n",
            "[*********************100%***********************]  1 of 1 completed\n",
            "ITC.NS .... ITC.BO\n",
            "[*********************100%***********************]  1 of 1 completed\n",
            "[*********************100%***********************]  1 of 1 completed\n",
            "INDIAMART.NS .... INDIAMART.BO\n",
            "[*********************100%***********************]  1 of 1 completed\n",
            "[*********************100%***********************]  1 of 1 completed\n",
            "HINDUNILVR.NS .... HINDUNILVR.BO\n",
            "[*********************100%***********************]  1 of 1 completed\n",
            "[*********************100%***********************]  1 of 1 completed\n",
            "PRINCEPIPE.NS .... PRINCEPIPE.BO\n",
            "[*********************100%***********************]  1 of 1 completed\n",
            "[*********************100%***********************]  1 of 1 completed\n",
            "('CUPID.NS', [0.22, 'NSE'])\n",
            "('VBL.NS', [0.21, 'NSE'])\n",
            "('IRFC.NS', [0.15, 'NSE'])\n",
            "('HNDFDS.NS', [0.15, 'NSE'])\n",
            "('AFFLE.NS', [0.11, 'BSE'])\n",
            "('BERGEPAINT.NS', [0.08, 'NSE'])\n",
            "('NEWGEN.NS', [0.08, 'NSE'])\n",
            "('HCLTECH.NS', [0.08, 'NSE'])\n",
            "('DIXON.NS', [0.08, 'BSE'])\n",
            "('SAKSOFT.NS', [0.08, 'BSE'])\n",
            "('RELAXO.NS', [0.07, 'NSE'])\n",
            "('TATACONSUM.NS', [0.07, 'BSE'])\n",
            "('SAIL.NS', [0.06, 'NSE'])\n",
            "('DMART.NS', [0.06, 'NSE'])\n",
            "('CAMS.NS', [0.06, 'BSE'])\n",
            "('PIDILITIND.NS', [0.04, 'NSE'])\n",
            "('TATAELXSI.NS', [0.04, 'NSE'])\n",
            "('INDIAMART.NS', [0.04, 'NSE'])\n",
            "('LTI.NS', [0.04, 'BSE'])\n",
            "('INFY.NS', [0.04, 'BSE'])\n",
            "('DIVISLAB.NS', [0.03, 'NSE'])\n",
            "('ITC.NS', [0.03, 'NSE'])\n",
            "('MTARTECH.NS', [0.03, 'BSE'])\n",
            "('POLYCAB.NS', [0.02, 'NSE'])\n",
            "('TATAMOTORS.NS', [0.02, 'NSE'])\n",
            "('RELIANCE.NS', [0.02, 'BSE'])\n",
            "('PRINCEPIPE.NS', [0.02, 'BSE'])\n",
            "('WIPRO.NS', [0.01, 'NSE'])\n",
            "('ASIANPAINT.NS', [0.01, 'NSE'])\n",
            "('AMBER.NS', [0.01, 'NSE'])\n",
            "('HAPPSTMNDS.NS', [0.01, 'BSE'])\n",
            "('HAVELLS.NS', [0.01, 'BSE'])\n",
            "('HINDUNILVR.NS', [0.01, 'BSE'])\n",
            "('TATACHEM.NS', [0.0, 'NSE'])\n",
            "('MPHASIS.NS', [0.0, 'NSE'])\n"
          ]
        }
      ]
    }
  ]
}